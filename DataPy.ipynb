{
 "cells": [
  {
   "cell_type": "code",
   "execution_count": 1,
   "id": "593da8bb",
   "metadata": {},
   "outputs": [
    {
     "name": "stdout",
     "output_type": "stream",
     "text": [
      "   month_number  facecream  facewash  toothpaste  bathingsoap  shampoo  \\\n",
      "0             1       2500      1500        5200         9200     1200   \n",
      "1             2       2630      1200        5100         6100     2100   \n",
      "2             3       2140      1340        4550         9550     3550   \n",
      "3             4       3400      1130        5870         8870     1870   \n",
      "4             5       3600      1740        4560         7760     1560   \n",
      "\n",
      "   moisturizer  total_units  total_profit  \n",
      "0         1500        21100        211000  \n",
      "1         1200        18330        183300  \n",
      "2         1340        22470        224700  \n",
      "3         1130        22270        222700  \n",
      "4         1740        20960        209600  \n"
     ]
    }
   ],
   "source": [
    "import numpy as np\n",
    "import matplotlib.pyplot as plt\n",
    "import pandas as pd\n",
    "\n",
    "dataset = pd.read_csv('Data.csv')\n",
    "X = dataset.iloc[:, :-1].values\n",
    "y = dataset.iloc[:, -1].values\n",
    "\n",
    "from sklearn.model_selection import train_test_split\n",
    "X_train, X_test, y_train, y_test = train_test_split(X, y, test_size = 0.2, random_state = 0)\n",
    "\n",
    "print(dataset.head())"
   ]
  },
  {
   "cell_type": "code",
   "execution_count": null,
   "id": "31c42e42",
   "metadata": {},
   "outputs": [],
   "source": []
  }
 ],
 "metadata": {
  "kernelspec": {
   "display_name": "Python 3 (ipykernel)",
   "language": "python",
   "name": "python3"
  },
  "language_info": {
   "codemirror_mode": {
    "name": "ipython",
    "version": 3
   },
   "file_extension": ".py",
   "mimetype": "text/x-python",
   "name": "python",
   "nbconvert_exporter": "python",
   "pygments_lexer": "ipython3",
   "version": "3.11.5"
  }
 },
 "nbformat": 4,
 "nbformat_minor": 5
}
